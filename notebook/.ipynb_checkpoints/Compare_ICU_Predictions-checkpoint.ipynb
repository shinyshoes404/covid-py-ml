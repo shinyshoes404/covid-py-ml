{
 "cells": [
  {
   "cell_type": "code",
   "execution_count": null,
   "id": "d734c571",
   "metadata": {},
   "outputs": [],
   "source": [
    "#####################################################################################\n",
    "#                                                                                   #\n",
    "#  This notebook pulls actual ICU utilization data from the Utah COVID Tracker API  #\n",
    "#  and compares it to the predictions made by covid-py-ml running in a docker       #\n",
    "#  container on your local machine.                                                 #\n",
    "#                                                                                   #\n",
    "#  How to use this notebook:                                                        #\n",
    "#   1) Make sure that the covid-py-ml image is running in a container on your       #\n",
    "#      local machine with localhost:8080 mapped to port 8080 on the container.      #\n",
    "#        Note: If you just ran your '$ docker run ...' or '$ docker-compose up -d'  #\n",
    "#        command, it may take up to 4 minutes for the container to be up and        #\n",
    "#        running with its API available.                                            #\n",
    "#                                                                                   #\n",
    "#   2) Click the >> button above to run all of the cells in this notebook.          #\n",
    "#       On hover it reads: (restart the kernel, then re-run the whole notebook...)  #\n",
    "#                                                                                   #\n",
    "#####################################################################################\n",
    "\n",
    "\n",
    "# Import the modules we need\n",
    "import requests, pandas as pd, matplotlib.pyplot as plt\n",
    "from matplotlib.pyplot import figure as fig\n",
    "\n",
    "\n",
    "####### --------------------- BUILD_DF -- HELPER FUNCTION ------------------------- #######\n",
    "\n",
    "# This is a helper function to transform the json returned by the Utah COVID Tacker API\n",
    "# into a Pandas dataframe that we can more easily work with\n",
    "def build_df(raw_json, date_col_name):\n",
    "    new_dict = {\"my_data\" : []}\n",
    "\n",
    "    for data_points in raw_json:\n",
    "        new_dict['my_data'].append(raw_json[data_points])\n",
    "    \n",
    "    df = pd.json_normalize(new_dict, \"my_data\")\n",
    "    df[date_col_name] = pd.to_datetime(df[date_col_name])\n",
    "\n",
    "    return df.sort_values(date_col_name).reset_index(drop=True)\n",
    "\n"
   ]
  },
  {
   "cell_type": "code",
   "execution_count": null,
   "id": "4eedca3d",
   "metadata": {},
   "outputs": [],
   "source": [
    "####### ---------------------- GET THE ACTUAL ICU DATA ------------------------ #######\n",
    "\n",
    "# fetch the ICU data for the top 16 Utah hospitals from Utah COVID Tracker's API\n",
    "icu_16_raw = requests.get('https://utahcovidtrack.com/api/icu/top-16').json()\n",
    "\n",
    "# build out the dataframe using the build_df helper function\n",
    "icu_16_df = build_df(icu_16_raw, \"date\")\n",
    "\n",
    "# drop some columns we don't need from the dataframe we just built\n",
    "icu_16_df = icu_16_df.drop(labels=['retrieveddate','icu-top16-hosp-covid-util'],axis=1)\n",
    "\n",
    "# limit the data we will plot to just those since August 2021\n",
    "# edit the pd.Timestamp() statement to change the amount of actual\n",
    "# icu data you want to plat later\n",
    "icu_16_df = icu_16_df[(icu_16_df['date'] >= pd.Timestamp(2021,8,1,0))]\n",
    "\n",
    "# show the dataframe we just made\n",
    "icu_16_df"
   ]
  },
  {
   "cell_type": "code",
   "execution_count": null,
   "id": "4f6104de",
   "metadata": {},
   "outputs": [],
   "source": [
    "####### ----------------------- GET THE PREDICTIONS ---------------------------- #######\n",
    "\n",
    "# fetch the predictions from our container running on localhost\n",
    "icu_predictions_raw = requests.get('http://localhost:8080/ml/api/predictions').json()\n",
    "\n",
    "# create a dataframe from the json we just fetched \n",
    "# note: we don't need the build_df() helper function in this case, because \n",
    "# the json is structured in a way that is convenient to put straight into\n",
    "# a pandas dataframe\n",
    "icu_predictions_df = pd.json_normalize(icu_predictions_raw, 'predictions')\n",
    "\n",
    "# convert the strings in predict_date to datetime objects\n",
    "icu_predictions_df['predict_date'] = pd.to_datetime(icu_predictions_df['predict_date'])\n",
    "\n",
    "# show the dataframe we just made\n",
    "icu_predictions_df"
   ]
  },
  {
   "cell_type": "code",
   "execution_count": null,
   "id": "046c98ca",
   "metadata": {},
   "outputs": [],
   "source": [
    "####### ----------------- CREATE A PLOT TO VISUALIZE OUR DATA ----------------- #######\n",
    "\n",
    "fig(figsize=(8, 4), dpi=150)\n",
    "plt.tick_params(axis='x', which='major', labelsize=6)\n",
    "plt.plot('date', 'icu-top16-hosp-total-util', data=icu_16_df, color='gray', label='Actual ICU Top 16')\n",
    "plt.plot('predict_date', 'icu_16_prediction', data=icu_predictions_df,  color='coral', label='Predict ICU Top 16')\n",
    "plt.legend(loc='upper right',prop={\"size\":5})\n",
    "plt.show()"
   ]
  }
 ],
 "metadata": {
  "kernelspec": {
   "display_name": "Python 3 (ipykernel)",
   "language": "python",
   "name": "python3"
  },
  "language_info": {
   "codemirror_mode": {
    "name": "ipython",
    "version": 3
   },
   "file_extension": ".py",
   "mimetype": "text/x-python",
   "name": "python",
   "nbconvert_exporter": "python",
   "pygments_lexer": "ipython3",
   "version": "3.9.6"
  }
 },
 "nbformat": 4,
 "nbformat_minor": 5
}
